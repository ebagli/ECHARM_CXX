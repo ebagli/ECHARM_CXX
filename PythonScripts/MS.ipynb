{
 "cells": [
  {
   "cell_type": "code",
   "execution_count": 1,
   "metadata": {
    "collapsed": true
   },
   "outputs": [],
   "source": [
    "%matplotlib inline\n",
    "import numpy as np\n",
    "import matplotlib.pyplot as plt\n",
    "import pandas as pd\n"
   ]
  },
  {
   "cell_type": "code",
   "execution_count": 19,
   "metadata": {
    "collapsed": false
   },
   "outputs": [
    {
     "name": "stdout",
     "output_type": "stream",
     "text": [
      "0 10\n",
      "0.209440434225 101.440907576\n"
     ]
    },
    {
     "data": {
      "image/png": "[encoded data removed]",
      "text/plain": [
       "<matplotlib.figure.Figure at 0x107979dd8>"
      ]
     },
     "metadata": {},
     "output_type": "display_data"
    }
   ],
   "source": [
    "vals = []\n",
    "counts = 100000\n",
    "A = 0.89\n",
    "R = 30\n",
    "mean = 0\n",
    "std = 10\n",
    "for i in range(counts):\n",
    "    if(np.random.uniform()<A):\n",
    "        vals.append(np.random.normal(mean,std))\n",
    "    else:\n",
    "        vals.append(np.random.normal(mean,std*R))\n",
    "\n",
    "print(mean,std)\n",
    "print(np.mean(vals),np.std(vals))\n",
    "plt.hist(vals,bins=np.linspace(-100,100,100))\n",
    "plt.show()"
   ]
  },
  {
   "cell_type": "code",
   "execution_count": 44,
   "metadata": {
    "collapsed": true
   },
   "outputs": [],
   "source": [
    "e = 0.3\n",
    "sigma1 = 3E-6\n",
    "\n",
    "def sigma2(sigma1,e):\n",
    "    return np.sqrt((1-(1-e)*sigma1*sigma1)/e)\n",
    "\n",
    "\n"
   ]
  },
  {
   "cell_type": "code",
   "execution_count": 25,
   "metadata": {
    "collapsed": false
   },
   "outputs": [
    {
     "data": {
      "text/plain": [
       "1.8257418583448026"
      ]
     },
     "execution_count": 25,
     "metadata": {},
     "output_type": "execute_result"
    }
   ],
   "source": [
    "sigma2(sigma1,e)"
   ]
  },
  {
   "cell_type": "code",
   "execution_count": 43,
   "metadata": {
    "collapsed": false
   },
   "outputs": [
    {
     "name": "stdout",
     "output_type": "stream",
     "text": [
      "5.64001e-11\n",
      "4.0000000000000003e-44\n",
      "7177.097203728363 7058.286191793046\n",
      "8.87865029112\n",
      "4.72556714284e-10\n",
      "1.0 4.72556714284e-10\n",
      "2116148114.65\n"
     ]
    }
   ],
   "source": [
    "sigma = 2E-22\n",
    "def epsilon(s,a,b):\n",
    "    out1 = 1 - s*s\n",
    "    out2 = (((np.log(b/a) - 0.5)*a*a)-s*s)\n",
    "    print(a*a)\n",
    "    print(s*s)\n",
    "    print(b/a,41000/pow(14,0.666666))\n",
    "    print(np.log(b/a))\n",
    "    print((((np.log(b/a) - 0.5)*a*a)))\n",
    "    print(out1,out2)\n",
    "    return out1/out2\n",
    "\n",
    "print(epsilon(sigma,a,b))\n",
    "\n"
   ]
  },
  {
   "cell_type": "code",
   "execution_count": 53,
   "metadata": {
    "collapsed": false
   },
   "outputs": [
    {
     "name": "stdout",
     "output_type": "stream",
     "text": [
      "0 180\n",
      "1.05771646762e-05 1.24488991523e-05\n"
     ]
    },
    {
     "data": {
      "image/png": "[encoded data removed]",
      "text/plain": [
       "<matplotlib.figure.Figure at 0x10797ba58>"
      ]
     },
     "metadata": {},
     "output_type": "display_data"
    }
   ],
   "source": [
    "def thetaSS(a,b):\n",
    "    u = np.random.uniform()\n",
    "    return a*b*np.sqrt((1.-u)/(u*b*b+a*a))\n",
    "\n",
    "a = 7.51E-6\n",
    "b = 0.0539\n",
    "\n",
    "vals = []\n",
    "counts = 100\n",
    "A = 1.\n",
    "mean = 0\n",
    "std = 180\n",
    "for i in range(counts):\n",
    "    if(np.random.uniform()<A):\n",
    "        vals.append(thetaSS(a,b))\n",
    "        #print(thetaSS(a,b))\n",
    "    else:\n",
    "        vals.append(np.random.normal(mean,std))\n",
    "\n",
    "print(mean,std)\n",
    "print(np.mean(vals),np.std(vals))\n",
    "plt.hist(vals,bins=np.linspace(-1000,1000,100))\n",
    "plt.show()"
   ]
  },
  {
   "cell_type": "code",
   "execution_count": null,
   "metadata": {
    "collapsed": true
   },
   "outputs": [],
   "source": []
  }
 ],
 "metadata": {
  "kernelspec": {
   "display_name": "Python 3",
   "language": "python",
   "name": "python3"
  },
  "language_info": {
   "codemirror_mode": {
    "name": "ipython",
    "version": 3
   },
   "file_extension": ".py",
   "mimetype": "text/x-python",
   "name": "python",
   "nbconvert_exporter": "python",
   "pygments_lexer": "ipython3",
   "version": "3.5.2"
  }
 },
 "nbformat": 4,
 "nbformat_minor": 2
}
